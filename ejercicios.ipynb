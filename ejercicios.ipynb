{
 "cells": [
  {
   "cell_type": "code",
   "execution_count": null,
   "metadata": {},
   "outputs": [
    {
     "ename": "",
     "evalue": "",
     "output_type": "error",
     "traceback": [
      "\u001b[1;31mRunning cells with 'Python 3.13.0' requires the ipykernel package.\n",
      "\u001b[1;31mRun the following command to install 'ipykernel' into the Python environment. \n",
      "\u001b[1;31mCommand: 'c:/Users/aserr/AppData/Local/Programs/Python/Python313/python3.13t.exe -m pip install ipykernel -U --user --force-reinstall'"
     ]
    }
   ],
   "source": [
    "from pyomo.environ import *\n",
    "\n",
    "# Crear el modelo\n",
    "model = ConcreteModel()\n",
    "\n",
    "# Definir las variables\n",
    "model.x1 = Var(within=NonNegativeReals)  \n",
    "model.x2 = Var(within=NonNegativeReals)  \n",
    "model.x3 = Var(within=NonNegativeReals)  \n",
    "model.x4 = Var(within=NonNegativeReals)  \n",
    " \n",
    "\n",
    "\n",
    "# Definir la función objetivo\n",
    "model.obj = Objective(\n",
    "    expr=8*model.x1 + 11*model.x2 + 6*model.x3 + 4*model.x4, \n",
    "    sense=maximize\n",
    ")\n",
    "\n",
    "\n",
    "# Definir las restricciones\n",
    "model.constraint1 = Constraint(expr=5*model.x1 + 7*model.x2 + 4*model.x3 + 3*model.x4 <= 14)\n",
    "model.constraint2 = Constraint(expr= model.x1 <= 1)\n",
    "model.constraint3 = Constraint(expr= model.x2 <= 1)\n",
    "model.constraint4 = Constraint(expr= model.x3 <= 1)\n",
    "model.constraint5 = Constraint(expr= model.x4 <= 1)\n",
    "model.constraint6 = Constraint(expr= model.x3 <= 0)\n",
    "model.constraint7 = Constraint(expr= model.x4 >= 0)\n",
    "model.constraint8 = Constraint(expr= model.x2 <= 0)\n",
    "model.constraint9 = Constraint(expr= model.x4 >= 1)\n",
    "\n",
    "\n",
    "\n",
    "\n",
    "\n",
    "\n",
    "# Resolver el problema\n",
    "solver = SolverFactory('glpk')\n",
    "solver.solve(model)\n",
    "\n",
    "# Mostrar los resultados\n",
    "print(\"\\nResultados:\")\n",
    "print(f\"(x1): {model.x1.value}\")\n",
    "print(f\" (x2): {model.x2.value}\")\n",
    "print(f\" (x3): {model.x3.value}\")\n",
    "print(f\" (x4): {model.x4.value}\")\n",
    "\n",
    "print(f\"Beneficio total: {model.obj()} €\")\n"
   ]
  }
 ],
 "metadata": {
  "kernelspec": {
   "display_name": "Python 3",
   "language": "python",
   "name": "python3"
  },
  "language_info": {
   "codemirror_mode": {
    "name": "ipython",
    "version": 3
   },
   "file_extension": ".py",
   "mimetype": "text/x-python",
   "name": "python",
   "nbconvert_exporter": "python",
   "pygments_lexer": "ipython3",
   "version": "3.13.0"
  }
 },
 "nbformat": 4,
 "nbformat_minor": 2
}
